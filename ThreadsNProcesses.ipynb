{
 "cells": [
  {
   "cell_type": "code",
   "execution_count": 23,
   "id": "d943564c",
   "metadata": {},
   "outputs": [],
   "source": [
    "from threading import Thread\n",
    "from multiprocessing import Process, Queue, Value, Pipe\n",
    "from time import sleep, perf_counter\n",
    "from loguru import logger as log"
   ]
  },
  {
   "attachments": {},
   "cell_type": "markdown",
   "id": "7295c5d3",
   "metadata": {},
   "source": [
    "Процессы и потоки имеют одинаковый интерфейс и могут создаваться либо из функции с помощью аргумента target: ```Process(target=f)```, либо вручную с помощью класса:"
   ]
  },
  {
   "cell_type": "code",
   "execution_count": 4,
   "id": "8464e406",
   "metadata": {},
   "outputs": [],
   "source": [
    "class BaseThread(Thread):\n",
    "\n",
    "    def __init__(self, n: int, running: Value, data_que: Queue):\n",
    "        super().__init__()\n",
    "        self.n = n\n",
    "        self.running = running\n",
    "        self.que = data_que\n",
    "\n",
    "    def run(self):\n",
    "        m = 0\n",
    "        while self.running.value:\n",
    "            self.que.put(f'Test {self.n} {m}')\n",
    "            m += 1\n",
    "            sleep(1)\n",
    "        log.success(f'The END {self.n}')"
   ]
  },
  {
   "attachments": {},
   "cell_type": "markdown",
   "id": "45206dfa",
   "metadata": {},
   "source": [
    "Запуск процесса и потока производится с помощью метода `.start()`"
   ]
  },
  {
   "cell_type": "code",
   "execution_count": 5,
   "id": "79dfe5d9",
   "metadata": {},
   "outputs": [],
   "source": [
    "running = Value('B', True)\n",
    "que = Queue(maxsize=10)\n",
    "t0 = BaseThread(0, running, que)\n",
    "t1 = BaseThread(1, running, que)\n",
    "t0.start()\n",
    "t1.start()"
   ]
  },
  {
   "attachments": {},
   "cell_type": "markdown",
   "id": "c26c5b40",
   "metadata": {},
   "source": [
    "Оптимальным способом завершения работы процессов / потоков по необходимости является значение в общей памяти `Value`"
   ]
  },
  {
   "cell_type": "code",
   "execution_count": 6,
   "id": "d09b9a01",
   "metadata": {},
   "outputs": [],
   "source": [
    "running.value = False"
   ]
  },
  {
   "attachments": {},
   "cell_type": "markdown",
   "id": "b50e5c5c",
   "metadata": {},
   "source": [
    "Считывать данные из процессов и потоков можно с помощью очереди `multiprocessing.Queue`"
   ]
  },
  {
   "cell_type": "code",
   "execution_count": null,
   "id": "2cb65d48",
   "metadata": {},
   "outputs": [],
   "source": [
    "while True:\n",
    "    if not que.empty():\n",
    "        print(que.get())"
   ]
  },
  {
   "attachments": {},
   "cell_type": "markdown",
   "id": "e985171e",
   "metadata": {},
   "source": [
    "Если есть набор функций с примерно одинаковым временем выполнения, которые можно запустить параллельно, то удобно пользоваться библиотекой `joblib`, а именно, классом `joblib.Parallel`"
   ]
  },
  {
   "cell_type": "code",
   "execution_count": 8,
   "id": "1ae28204",
   "metadata": {},
   "outputs": [],
   "source": [
    "def f(x, t=1):\n",
    "    sleep(t)\n",
    "    return x ** 2"
   ]
  },
  {
   "cell_type": "code",
   "execution_count": 9,
   "id": "fbde2363",
   "metadata": {},
   "outputs": [
    {
     "name": "stdout",
     "output_type": "stream",
     "text": [
      "Wall time: 10.1 s\n"
     ]
    },
    {
     "data": {
      "text/plain": [
       "[0, 1, 4, 9, 16, 25, 36, 49, 64, 81]"
      ]
     },
     "execution_count": 9,
     "metadata": {},
     "output_type": "execute_result"
    }
   ],
   "source": [
    "%time [f(x) for x in range(10)]"
   ]
  },
  {
   "cell_type": "code",
   "execution_count": 12,
   "id": "294b02db",
   "metadata": {},
   "outputs": [
    {
     "name": "stdout",
     "output_type": "stream",
     "text": [
      "Wall time: 1.01 s\n"
     ]
    },
    {
     "data": {
      "text/plain": [
       "[0, 1, 4, 9, 16, 25, 36, 49, 64, 81]"
      ]
     },
     "execution_count": 12,
     "metadata": {},
     "output_type": "execute_result"
    }
   ],
   "source": [
    "from joblib import Parallel, delayed\n",
    "%time Parallel(n_jobs=10, prefer='threads')(delayed(f)(x) for x in range(10))"
   ]
  },
  {
   "attachments": {},
   "cell_type": "markdown",
   "id": "4d727498",
   "metadata": {},
   "source": [
    "Если функции имет очень разное время выполнения, то удобнее воспользоваться асинхронным пулом `concurrent.futures.Executor`, либо `ProcessPoolExecutor`, либо `ThreadPoolExecutor`"
   ]
  },
  {
   "cell_type": "code",
   "execution_count": 27,
   "id": "2c5570e4",
   "metadata": {},
   "outputs": [
    {
     "name": "stderr",
     "output_type": "stream",
     "text": [
      "2023-03-02 19:31:12.974 | INFO     | __main__:<module>:15 - Future 1 is done 1s\n",
      "2023-03-02 19:31:13.976 | INFO     | __main__:<module>:15 - Future 2 is done 2s\n",
      "2023-03-02 19:31:14.969 | INFO     | __main__:<module>:15 - Future 3 is done 3s\n",
      "2023-03-02 19:31:15.969 | INFO     | __main__:<module>:15 - Future 4 is done 4s\n",
      "2023-03-02 19:31:16.981 | INFO     | __main__:<module>:15 - Future 5 is done 5s\n",
      "2023-03-02 19:31:17.979 | INFO     | __main__:<module>:15 - Future 6 is done 6s\n",
      "2023-03-02 19:31:18.983 | INFO     | __main__:<module>:15 - Future 7 is done 7s\n",
      "2023-03-02 19:31:19.984 | INFO     | __main__:<module>:15 - Future 8 is done 8s\n",
      "2023-03-02 19:31:20.969 | INFO     | __main__:<module>:15 - Future 9 is done 9s\n",
      "2023-03-02 19:31:21.976 | INFO     | __main__:<module>:15 - Future 10 is done 1e+01s\n"
     ]
    },
    {
     "name": "stdout",
     "output_type": "stream",
     "text": [
      "Wall time: 10 s\n"
     ]
    },
    {
     "data": {
      "text/plain": [
       "{1: 1, 2: 4, 3: 9, 4: 16, 5: 25, 6: 36, 7: 49, 8: 64, 9: 81, 10: 100}"
      ]
     },
     "execution_count": 27,
     "metadata": {},
     "output_type": "execute_result"
    }
   ],
   "source": [
    "%%time\n",
    "from concurrent.futures import ThreadPoolExecutor\n",
    "\n",
    "exec = ThreadPoolExecutor(max_workers=10)\n",
    "futures = {}\n",
    "for t in range(1, 11):\n",
    "    futures[t] = exec.submit(f, t, t)\n",
    "\n",
    "results = {}\n",
    "time_start = perf_counter()\n",
    "while len(results) < len(futures):\n",
    "    for t in futures:\n",
    "        fut = futures[t]\n",
    "        if fut.done() and t not in results:\n",
    "            results[t] = fut.result()\n",
    "            log.info(f'Future {t} is done {perf_counter() - time_start:.1g}s')\n",
    "results"
   ]
  }
 ],
 "metadata": {
  "kernelspec": {
   "display_name": "base",
   "language": "python",
   "name": "python3"
  },
  "language_info": {
   "codemirror_mode": {
    "name": "ipython",
    "version": 3
   },
   "file_extension": ".py",
   "mimetype": "text/x-python",
   "name": "python",
   "nbconvert_exporter": "python",
   "pygments_lexer": "ipython3",
   "version": "3.9.12"
  },
  "vscode": {
   "interpreter": {
    "hash": "34a627d1e72e6f0465612c563751711daf9844487aa6007983cb78f97bb854cb"
   }
  }
 },
 "nbformat": 4,
 "nbformat_minor": 5
}
