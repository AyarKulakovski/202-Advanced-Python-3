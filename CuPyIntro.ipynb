{
 "cells": [
  {
   "cell_type": "markdown",
   "id": "43ffc9bb",
   "metadata": {},
   "source": [
    "Установка `cupy`, `pyfftw`"
   ]
  },
  {
   "cell_type": "code",
   "execution_count": null,
   "id": "293cb81f",
   "metadata": {},
   "outputs": [],
   "source": [
    "#!pip install pyfftw\n",
    "!conda install -c conda-forge pyfftw"
   ]
  },
  {
   "cell_type": "code",
   "execution_count": null,
   "id": "9e38c80d",
   "metadata": {},
   "outputs": [],
   "source": [
    "!conda install -c conda-forge cupy"
   ]
  },
  {
   "cell_type": "markdown",
   "id": "7aa22172",
   "metadata": {},
   "source": [
    "### Архитектура обмена данными с GPU\n",
    "![gpu](GPU.png \"GPU\")"
   ]
  },
  {
   "cell_type": "code",
   "execution_count": 2,
   "id": "93a5296a",
   "metadata": {},
   "outputs": [],
   "source": [
    "import cupy as cp\n",
    "import numpy as np\n",
    "from pyfftw.interfaces.numpy_fft import fft\n",
    "\n",
    "import matplotlib.pyplot as plt\n",
    "from time import perf_counter"
   ]
  },
  {
   "cell_type": "code",
   "execution_count": 3,
   "id": "2d1b3aa1",
   "metadata": {},
   "outputs": [
    {
     "data": {
      "text/plain": [
       "<module 'cupy' from 'c:\\\\Users\\\\vonGostev\\\\miniconda3\\\\lib\\\\site-packages\\\\cupy\\\\__init__.py'>"
      ]
     },
     "execution_count": 3,
     "metadata": {},
     "output_type": "execute_result"
    }
   ],
   "source": [
    "cp"
   ]
  },
  {
   "cell_type": "markdown",
   "id": "e9061047",
   "metadata": {},
   "source": [
    "CuPy -- простой и удобный способ ускорения кода с помощью видеокарты. Основные особенности:\n",
    "1. Массивы `cupy` полностью совместимы по интерфейсам с массивами `numpy`\n",
    "2. Доступно большое число ускоренных функций из `numpy` и `scipy`\n",
    "https://docs.cupy.dev/en/stable/reference/comparison.html\n",
    "\n",
    "Что нужно помнить:\n",
    "1. Для вычислений на видеокарте данные из RAM надо передать в память GPU. Это медленная операция, поэтому лучше передавать данные по возможности большими порциями и до, а не в процессе вычислений. Выделение памяти на GPU производится с помощью функций `cp.array` и `cp.asarray`.\n",
    "2. Циклы `python` очень медленные и могут тормозить вычисления при использовании `cupy` даже больше, чем при использовании `numpy`.\n",
    "3. Ускорение кода растет с увеличением объема обрабатываемых данных.\n",
    "4. Параллелизация кода с помощью потоков/процессов работает не очень, надо тестировать индивидуально."
   ]
  },
  {
   "cell_type": "markdown",
   "id": "a00cfb9d",
   "metadata": {},
   "source": [
    "Объявление массивов `cupy`"
   ]
  },
  {
   "cell_type": "code",
   "execution_count": 7,
   "id": "ea6aca5e",
   "metadata": {},
   "outputs": [
    {
     "data": {
      "text/plain": [
       "array([1, 2, 3])"
      ]
     },
     "execution_count": 7,
     "metadata": {},
     "output_type": "execute_result"
    }
   ],
   "source": [
    "cp.array([1, 2, 3])\n",
    "cp.asarray([1, 2, 3])\n",
    "cp.asanyarray([1, 2, 3])"
   ]
  },
  {
   "cell_type": "code",
   "execution_count": 12,
   "id": "feb83ecd",
   "metadata": {},
   "outputs": [
    {
     "name": "stdout",
     "output_type": "stream",
     "text": [
      "105 µs ± 6.62 µs per loop (mean ± std. dev. of 7 runs, 10000 loops each)\n"
     ]
    }
   ],
   "source": [
    "%timeit cp.array([1, 2, 3])"
   ]
  },
  {
   "cell_type": "code",
   "execution_count": 14,
   "id": "4d53bf3e",
   "metadata": {},
   "outputs": [
    {
     "name": "stdout",
     "output_type": "stream",
     "text": [
      "100 µs ± 6.02 µs per loop (mean ± std. dev. of 7 runs, 10000 loops each)\n"
     ]
    }
   ],
   "source": [
    "%timeit cp.asarray([1, 2, 3])"
   ]
  },
  {
   "cell_type": "code",
   "execution_count": 13,
   "id": "79cdade0",
   "metadata": {},
   "outputs": [
    {
     "name": "stdout",
     "output_type": "stream",
     "text": [
      "712 ns ± 36.2 ns per loop (mean ± std. dev. of 7 runs, 1000000 loops each)\n"
     ]
    }
   ],
   "source": [
    "%timeit np.array([1, 2, 3])"
   ]
  },
  {
   "cell_type": "code",
   "execution_count": 15,
   "id": "9a766d0e",
   "metadata": {},
   "outputs": [
    {
     "name": "stdout",
     "output_type": "stream",
     "text": [
      "746 ns ± 64 ns per loop (mean ± std. dev. of 7 runs, 1000000 loops each)\n"
     ]
    }
   ],
   "source": [
    "%timeit np.asarray([1, 2, 3])"
   ]
  },
  {
   "cell_type": "code",
   "execution_count": 16,
   "id": "8314cb27",
   "metadata": {},
   "outputs": [
    {
     "name": "stdout",
     "output_type": "stream",
     "text": [
      "7 µs ± 702 ns per loop (mean ± std. dev. of 7 runs, 100000 loops each)\n"
     ]
    }
   ],
   "source": [
    "%timeit np.ones(10000)"
   ]
  },
  {
   "cell_type": "code",
   "execution_count": 18,
   "id": "1958537f",
   "metadata": {},
   "outputs": [
    {
     "name": "stdout",
     "output_type": "stream",
     "text": [
      "25.6 µs ± 1.05 µs per loop (mean ± std. dev. of 7 runs, 10000 loops each)\n"
     ]
    }
   ],
   "source": [
    "%timeit cp.ones(10000)"
   ]
  },
  {
   "cell_type": "code",
   "execution_count": 35,
   "id": "025c8ed9",
   "metadata": {},
   "outputs": [
    {
     "name": "stdout",
     "output_type": "stream",
     "text": [
      "57.9 ms ± 2.42 ms per loop (mean ± std. dev. of 7 runs, 10 loops each)\n"
     ]
    }
   ],
   "source": [
    "%%timeit \n",
    "a = np.random.random(size=(1024, 1024)).astype(np.float32)\n",
    "b = np.random.random(size=(1024, 1024)).astype(np.float32)\n",
    "a @ b"
   ]
  },
  {
   "cell_type": "code",
   "execution_count": 36,
   "id": "7d57808d",
   "metadata": {},
   "outputs": [
    {
     "name": "stdout",
     "output_type": "stream",
     "text": [
      "1.33 ms ± 4.19 µs per loop (mean ± std. dev. of 7 runs, 1000 loops each)\n"
     ]
    }
   ],
   "source": [
    "%%timeit\n",
    "a = cp.random.random(size=(1024, 1024)).astype(np.float32)\n",
    "b = cp.random.random(size=(1024, 1024)).astype(np.float32)\n",
    "a @ b"
   ]
  },
  {
   "cell_type": "code",
   "execution_count": 38,
   "id": "790fabc3",
   "metadata": {},
   "outputs": [
    {
     "name": "stdout",
     "output_type": "stream",
     "text": [
      "268 ms ± 12.9 ms per loop (mean ± std. dev. of 7 runs, 1 loop each)\n"
     ]
    }
   ],
   "source": [
    "%%timeit\n",
    "a = np.random.random(size=(1024, 1024)).astype(np.float32)\n",
    "b = np.random.random(size=(1024, 1024)).astype(np.float32)\n",
    "np.einsum('ij,jk->ik', a, b)"
   ]
  },
  {
   "cell_type": "code",
   "execution_count": 39,
   "id": "14e1a3cc",
   "metadata": {},
   "outputs": [
    {
     "name": "stdout",
     "output_type": "stream",
     "text": [
      "573 µs ± 71.5 µs per loop (mean ± std. dev. of 7 runs, 1 loop each)\n"
     ]
    }
   ],
   "source": [
    "%%timeit\n",
    "a = cp.random.random(size=(1024, 1024)).astype(np.float32)\n",
    "b = cp.random.random(size=(1024, 1024)).astype(np.float32)\n",
    "cp.einsum('ij,jk->ik', a, b)"
   ]
  },
  {
   "cell_type": "markdown",
   "id": "1ef0317c",
   "metadata": {},
   "source": [
    "Так как код на GPU выполняется асинхронно, для анализа производительности стоит использовать рекомендации https://docs.cupy.dev/en/stable/user_guide/performance.html\n",
    "хотя в боевом коде удобнее использовать `time.perf_counter`, который дает достаточно точные результаты из-за синхронности всего остального кода. На простых операциях и маленьких массивах выигрыша не будет из-за низкой скорости обмена данными с GPU."
   ]
  },
  {
   "cell_type": "code",
   "execution_count": 3,
   "id": "c3520fd5",
   "metadata": {},
   "outputs": [
    {
     "name": "stdout",
     "output_type": "stream",
     "text": [
      "zeros               :    CPU:   30.330 us   +/- 9.828 (min:   20.600 / max:   51.600) us     GPU-0:   85.027 us   +/-17.467 (min:   57.120 / max:  117.760) us\n"
     ]
    }
   ],
   "source": [
    "from cupyx.profiler import benchmark\n",
    "# Код работает, начиная с cupy 10.0\n",
    "print(benchmark(cp.zeros, (100000,), n_repeat=10))"
   ]
  },
  {
   "cell_type": "markdown",
   "id": "10f5ee70",
   "metadata": {},
   "source": [
    "### Быстрое преобразование Фурье\n",
    "О дискретном преобразовании Фурье (ДПФ) неплохо написано [тут](http://kprf.mipt.ru/attachments/article/51/dft.pdf), [тут](https://habr.com/ru/post/196374/) и [тут (на английском)](https://www.robots.ox.ac.uk/~sjrob/Teaching/SP/l7.pdf).\n",
    "\n",
    "Про быстрое преобразование Фурье (БПФ), которое имеет существенный выигрыш по вычислительной сложности и чаще всего используется в пакетах численных расчетов, можно почитать [тут же (на английском)](https://www.robots.ox.ac.uk/~sjrob/Teaching/SP/l7.pdf)."
   ]
  },
  {
   "cell_type": "markdown",
   "id": "9562b2f0",
   "metadata": {},
   "source": [
    "Рассмотрим различия в производительности `numpy` и `cupy` при вычислении БПФ. В силу \"медленного\" обмена данными с GPU стоит ожидать выигрыша CPU для малых объемов данных и выигрыша GPU для больших объемов данных.\n",
    "Если мы пользуемся `numpy`, то пишем что-то такое:"
   ]
  },
  {
   "cell_type": "code",
   "execution_count": 13,
   "id": "0163a51a",
   "metadata": {},
   "outputs": [
    {
     "data": {
      "image/png": "[encoded data removed]",
      "text/plain": [
       "<Figure size 432x288 with 1 Axes>"
      ]
     },
     "metadata": {
      "needs_background": "light"
     },
     "output_type": "display_data"
    }
   ],
   "source": [
    "t = np.linspace(0, 10, 2 ** 18)\n",
    "dt = t[1]\n",
    "sig = np.sin(t * 100)\n",
    "sp = np.fft.fft(sig)\n",
    "plt.loglog(np.fft.fftfreq(len(sig), dt), np.abs(sp))\n",
    "plt.show()"
   ]
  },
  {
   "cell_type": "markdown",
   "id": "ebb98aab",
   "metadata": {},
   "source": [
    "Стоит помнить, что частоты в `fft` растут пилообразно. Первая половина частотных коэффициентов отвечает за положительные частотные компоненты, а вторая -- за отрицательно частотные."
   ]
  },
  {
   "cell_type": "code",
   "execution_count": 16,
   "id": "a254f8c9",
   "metadata": {},
   "outputs": [
    {
     "data": {
      "image/png": "[encoded data removed]",
      "text/plain": [
       "<Figure size 432x288 with 1 Axes>"
      ]
     },
     "metadata": {
      "needs_background": "light"
     },
     "output_type": "display_data"
    }
   ],
   "source": [
    "plt.plot(np.fft.fftfreq(len(sig), dt))\n",
    "plt.show()"
   ]
  },
  {
   "cell_type": "markdown",
   "id": "5a5abd07",
   "metadata": {},
   "source": [
    "При использовании `cupy` код абсолютно такой же. Единственное отличие -- использование метода `.get()` при выводе графика. Это связано с тем, что массивы `cupy` лежат в памяти GPU, и `matplotlib` не умеет работать с такими данными."
   ]
  },
  {
   "cell_type": "code",
   "execution_count": 17,
   "id": "93914271",
   "metadata": {},
   "outputs": [
    {
     "data": {
      "image/png": "[encoded data removed]",
      "text/plain": [
       "<Figure size 432x288 with 1 Axes>"
      ]
     },
     "metadata": {
      "needs_background": "light"
     },
     "output_type": "display_data"
    }
   ],
   "source": [
    "t = cp.linspace(0, 10, 2 ** 18)\n",
    "dt = t[1]\n",
    "sig = cp.sin(t * 100)\n",
    "sp = cp.fft.fft(sig)\n",
    "plt.loglog(cp.fft.fftfreq(len(sig), dt).get(), cp.abs(sp).get())\n",
    "plt.show()"
   ]
  },
  {
   "cell_type": "markdown",
   "id": "1a5fa90b",
   "metadata": {},
   "source": [
    "### Тестирование проивзодительности\n",
    "Конечно, мы бы не стали мучиться с GPU, если бы это не давало нам выигрыша по производительности.\n",
    "Протестируем `numpy.fft` и `cupy.fft` для разного объема данных (сигнал берется простой, синусоидальный). Для этого будем пользовать унифицированным подходом:"
   ]
  },
  {
   "cell_type": "code",
   "execution_count": 18,
   "id": "1d0c7004",
   "metadata": {},
   "outputs": [],
   "source": [
    "def test_fft(n_low, n_high, backend=np, n_repeat=10):\n",
    "    times = []\n",
    "    for n in range(n_low, n_high):\n",
    "        t = backend.linspace(0, 10, 2 ** n)\n",
    "        sig = backend.sin(t * 100)\n",
    "        _times = []\n",
    "        for r in range(n_repeat):\n",
    "            t_start = perf_counter()\n",
    "            backend.fft.fft(sig)\n",
    "            t_end = perf_counter()\n",
    "            _times.append(t_end - t_start)\n",
    "        times.append(np.median(_times))\n",
    "    return times\n",
    "\n",
    "def test_fft_pyfftw(n_low, n_high, n_repeat=100):\n",
    "    times = []\n",
    "    for n in range(n_low, n_high):\n",
    "        t = np.linspace(0, 10, 2 ** n)\n",
    "        sig = np.sin(t * 100)\n",
    "        _times = []\n",
    "        for r in range(n_repeat):\n",
    "            t_start = perf_counter()\n",
    "            fft(sig, **{'planner_effort': 'FFTW_ESTIMATE',\n",
    "                'overwrite_input': True,\n",
    "                'threads': -1})\n",
    "            t_end = perf_counter()\n",
    "            _times.append(t_end - t_start)\n",
    "        times.append(np.median(_times))\n",
    "    return times"
   ]
  },
  {
   "cell_type": "markdown",
   "id": "5bda4cfe",
   "metadata": {},
   "source": [
    "Построим графики времени выполнения `fft` (усреднено по 10 прогонам) для `numpy`, `cupy` и еще одной популярной библиотеки для БПФ -- `pyfftw` (оптимальный выбор для вычислений на CPU)."
   ]
  },
  {
   "cell_type": "code",
   "execution_count": 20,
   "id": "624b8fdc",
   "metadata": {
    "scrolled": false
   },
   "outputs": [
    {
     "data": {
      "image/png": "[encoded data removed]",
      "text/plain": [
       "<Figure size 576x360 with 1 Axes>"
      ]
     },
     "metadata": {
      "needs_background": "light"
     },
     "output_type": "display_data"
    },
    {
     "name": "stdout",
     "output_type": "stream",
     "text": [
      "Wall time: 46.7 s\n"
     ]
    }
   ],
   "source": [
    "%%time\n",
    "n_low = 5\n",
    "n_high = 25\n",
    "n_grid = np.arange(n_low, n_high)\n",
    "plt.figure(figsize=(8,5))\n",
    "plt.semilogy(n_grid, test_fft(n_low, n_high, backend=np), 'o-', label='numpy')\n",
    "plt.plot(n_grid, test_fft(n_low, n_high), '^-', label='pyfftw')\n",
    "plt.plot(n_grid, test_fft(n_low, n_high, backend=cp), 'v-', label='cupy')\n",
    "plt.legend(frameon=False)\n",
    "plt.xlabel('$\\\\log_2N$', fontsize=16)\n",
    "plt.ylabel('$t_{end} - t_{start}$, s', fontsize=16)\n",
    "plt.show()"
   ]
  },
  {
   "cell_type": "markdown",
   "id": "ddfae59b",
   "metadata": {},
   "source": [
    "Видно, что время вычислений на CPU растет линейно с ростом объема данных, а на GPU время практически постоянно и при объеме данных $2^{24}=16777216$ точек выигрыш составляет 4 порядка (секунды против 100 мкс)."
   ]
  },
  {
   "cell_type": "markdown",
   "id": "6d5dc0e0",
   "metadata": {},
   "source": [
    "### О единообразном коде `numpy` и `cupy`\n",
    "Так как интерфейсы `numpy` и `cupy` в целом одинаковы, можно писать универсальный код, который при необходимости может быть выполнен на GPU. Если можно в явном виде импортировать `cupy`, то для этого можно воспользоваться встроенной в `cupy` функцией. Например:"
   ]
  },
  {
   "cell_type": "code",
   "execution_count": null,
   "id": "125f0360",
   "metadata": {},
   "outputs": [],
   "source": [
    "def mean_cpnp(sig):\n",
    "    backend = cp.get_array_module(sig)\n",
    "    return backend.mean(sig)"
   ]
  },
  {
   "cell_type": "code",
   "execution_count": 50,
   "id": "0000749e",
   "metadata": {},
   "outputs": [
    {
     "data": {
      "text/plain": [
       "cupy.ndarray"
      ]
     },
     "execution_count": 50,
     "metadata": {},
     "output_type": "execute_result"
    }
   ],
   "source": [
    "x = cp.array([1,2,3])\n",
    "type(x.mean())"
   ]
  },
  {
   "cell_type": "markdown",
   "id": "3d4c09be",
   "metadata": {},
   "source": [
    "Иногда необходимо обеспечить универсальность кода без явного импорта `cupy`. Тогда можно пользоваться таким подходом:"
   ]
  },
  {
   "cell_type": "code",
   "execution_count": 8,
   "id": "53d457e3",
   "metadata": {},
   "outputs": [],
   "source": [
    "def getbackend(obj):\n",
    "    module_name = type(obj).__module__.split('.')[0]\n",
    "    if module_name in ['numpy', 'cupy']:\n",
    "        return __import__(module_name)\n",
    "    else:\n",
    "        raise ValueError(\n",
    "            f'Unknown backend `{module_name}`. Check object `{type(obj)}` type.')\n",
    "\n",
    "\n",
    "def mean_cpnp(sig, backend=None):\n",
    "    if backend is None:\n",
    "        backend = getbackend(sig)\n",
    "    return backend.mean(sig)"
   ]
  }
 ],
 "metadata": {
  "kernelspec": {
   "display_name": "base",
   "language": "python",
   "name": "python3"
  },
  "language_info": {
   "codemirror_mode": {
    "name": "ipython",
    "version": 3
   },
   "file_extension": ".py",
   "mimetype": "text/x-python",
   "name": "python",
   "nbconvert_exporter": "python",
   "pygments_lexer": "ipython3",
   "version": "3.9.12"
  },
  "vscode": {
   "interpreter": {
    "hash": "86eb1e4a564685919b2b8aa3eb87820160b4599c11a902938692181984dae4a6"
   }
  }
 },
 "nbformat": 4,
 "nbformat_minor": 5
}
